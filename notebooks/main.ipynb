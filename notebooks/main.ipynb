{
 "cells": [
  {
   "cell_type": "code",
   "execution_count": 5,
   "metadata": {},
   "outputs": [],
   "source": [
    "import pandas as pd\n",
    "DATASET_LOC = \"https://raw.githubusercontent.com/GokuMohandas/Made-With-ML/main/datasets/dataset.csv\""
   ]
  },
  {
   "cell_type": "code",
   "execution_count": 6,
   "metadata": {},
   "outputs": [
    {
     "data": {
      "text/html": [
       "<div>\n",
       "<style scoped>\n",
       "    .dataframe tbody tr th:only-of-type {\n",
       "        vertical-align: middle;\n",
       "    }\n",
       "\n",
       "    .dataframe tbody tr th {\n",
       "        vertical-align: top;\n",
       "    }\n",
       "\n",
       "    .dataframe thead th {\n",
       "        text-align: right;\n",
       "    }\n",
       "</style>\n",
       "<table border=\"1\" class=\"dataframe\">\n",
       "  <thead>\n",
       "    <tr style=\"text-align: right;\">\n",
       "      <th></th>\n",
       "      <th>id</th>\n",
       "      <th>created_on</th>\n",
       "      <th>title</th>\n",
       "      <th>description</th>\n",
       "      <th>tag</th>\n",
       "    </tr>\n",
       "  </thead>\n",
       "  <tbody>\n",
       "    <tr>\n",
       "      <th>0</th>\n",
       "      <td>6</td>\n",
       "      <td>2020-02-20 06:43:18</td>\n",
       "      <td>Comparison between YOLO and RCNN on real world...</td>\n",
       "      <td>Bringing theory to experiment is cool. We can ...</td>\n",
       "      <td>computer-vision</td>\n",
       "    </tr>\n",
       "    <tr>\n",
       "      <th>1</th>\n",
       "      <td>7</td>\n",
       "      <td>2020-02-20 06:47:21</td>\n",
       "      <td>Show, Infer &amp; Tell: Contextual Inference for C...</td>\n",
       "      <td>The beauty of the work lies in the way it arch...</td>\n",
       "      <td>computer-vision</td>\n",
       "    </tr>\n",
       "    <tr>\n",
       "      <th>2</th>\n",
       "      <td>9</td>\n",
       "      <td>2020-02-24 16:24:45</td>\n",
       "      <td>Awesome Graph Classification</td>\n",
       "      <td>A collection of important graph embedding, cla...</td>\n",
       "      <td>other</td>\n",
       "    </tr>\n",
       "    <tr>\n",
       "      <th>3</th>\n",
       "      <td>15</td>\n",
       "      <td>2020-02-28 23:55:26</td>\n",
       "      <td>Awesome Monte Carlo Tree Search</td>\n",
       "      <td>A curated list of Monte Carlo tree search pape...</td>\n",
       "      <td>other</td>\n",
       "    </tr>\n",
       "    <tr>\n",
       "      <th>4</th>\n",
       "      <td>25</td>\n",
       "      <td>2020-03-07 23:04:31</td>\n",
       "      <td>AttentionWalk</td>\n",
       "      <td>A PyTorch Implementation of \"Watch Your Step: ...</td>\n",
       "      <td>other</td>\n",
       "    </tr>\n",
       "    <tr>\n",
       "      <th>5</th>\n",
       "      <td>27</td>\n",
       "      <td>2020-03-07 23:18:15</td>\n",
       "      <td>APPNP and PPNP</td>\n",
       "      <td>A PyTorch implementation of \"Predict then Prop...</td>\n",
       "      <td>other</td>\n",
       "    </tr>\n",
       "    <tr>\n",
       "      <th>6</th>\n",
       "      <td>28</td>\n",
       "      <td>2020-03-07 23:23:46</td>\n",
       "      <td>Attributed Social Network Embedding</td>\n",
       "      <td>A sparsity aware and memory efficient implemen...</td>\n",
       "      <td>other</td>\n",
       "    </tr>\n",
       "    <tr>\n",
       "      <th>7</th>\n",
       "      <td>29</td>\n",
       "      <td>2020-03-07 23:45:38</td>\n",
       "      <td>Signed Graph Convolutional Network</td>\n",
       "      <td>A PyTorch implementation of \"Signed Graph Conv...</td>\n",
       "      <td>other</td>\n",
       "    </tr>\n",
       "    <tr>\n",
       "      <th>8</th>\n",
       "      <td>45</td>\n",
       "      <td>2020-03-08 00:39:08</td>\n",
       "      <td>SimGNN</td>\n",
       "      <td>A PyTorch implementation of \"SimGNN: A Neural ...</td>\n",
       "      <td>other</td>\n",
       "    </tr>\n",
       "    <tr>\n",
       "      <th>9</th>\n",
       "      <td>61</td>\n",
       "      <td>2020-03-16 17:35:22</td>\n",
       "      <td>Using JAX to Improve Separable Image Filters</td>\n",
       "      <td>Optimizing the filters to improve the filtered...</td>\n",
       "      <td>computer-vision</td>\n",
       "    </tr>\n",
       "  </tbody>\n",
       "</table>\n",
       "</div>"
      ],
      "text/plain": [
       "   id           created_on                                              title  \\\n",
       "0   6  2020-02-20 06:43:18  Comparison between YOLO and RCNN on real world...   \n",
       "1   7  2020-02-20 06:47:21  Show, Infer & Tell: Contextual Inference for C...   \n",
       "2   9  2020-02-24 16:24:45                       Awesome Graph Classification   \n",
       "3  15  2020-02-28 23:55:26                    Awesome Monte Carlo Tree Search   \n",
       "4  25  2020-03-07 23:04:31                                      AttentionWalk   \n",
       "5  27  2020-03-07 23:18:15                                     APPNP and PPNP   \n",
       "6  28  2020-03-07 23:23:46                Attributed Social Network Embedding   \n",
       "7  29  2020-03-07 23:45:38                 Signed Graph Convolutional Network   \n",
       "8  45  2020-03-08 00:39:08                                             SimGNN   \n",
       "9  61  2020-03-16 17:35:22       Using JAX to Improve Separable Image Filters   \n",
       "\n",
       "                                         description              tag  \n",
       "0  Bringing theory to experiment is cool. We can ...  computer-vision  \n",
       "1  The beauty of the work lies in the way it arch...  computer-vision  \n",
       "2  A collection of important graph embedding, cla...            other  \n",
       "3  A curated list of Monte Carlo tree search pape...            other  \n",
       "4  A PyTorch Implementation of \"Watch Your Step: ...            other  \n",
       "5  A PyTorch implementation of \"Predict then Prop...            other  \n",
       "6  A sparsity aware and memory efficient implemen...            other  \n",
       "7  A PyTorch implementation of \"Signed Graph Conv...            other  \n",
       "8  A PyTorch implementation of \"SimGNN: A Neural ...            other  \n",
       "9  Optimizing the filters to improve the filtered...  computer-vision  "
      ]
     },
     "execution_count": 6,
     "metadata": {},
     "output_type": "execute_result"
    }
   ],
   "source": [
    "df = pd.read_csv(DATASET_LOC)\n",
    "df.head(10)"
   ]
  },
  {
   "cell_type": "code",
   "execution_count": 7,
   "metadata": {},
   "outputs": [
    {
     "data": {
      "text/plain": [
       "id             764\n",
       "created_on     764\n",
       "title          764\n",
       "description    764\n",
       "tag            764\n",
       "dtype: int64"
      ]
     },
     "execution_count": 7,
     "metadata": {},
     "output_type": "execute_result"
    }
   ],
   "source": [
    "df.count()"
   ]
  },
  {
   "cell_type": "code",
   "execution_count": 8,
   "metadata": {},
   "outputs": [],
   "source": [
    "import matplotlib.pyplot as plt"
   ]
  },
  {
   "cell_type": "code",
   "execution_count": 9,
   "metadata": {},
   "outputs": [
    {
     "data": {
      "text/plain": [
       "<Axes: ylabel='tag'>"
      ]
     },
     "execution_count": 9,
     "metadata": {},
     "output_type": "execute_result"
    },
    {
     "data": {
      "image/png": "[encoded data removed]",
      "text/plain": [
       "<Figure size 640x480 with 1 Axes>"
      ]
     },
     "metadata": {},
     "output_type": "display_data"
    }
   ],
   "source": [
    "df['tag'].value_counts().plot(kind='barh')\n",
    "#plt.xticks(rotation=0)\n",
    "#plt.show()\n"
   ]
  },
  {
   "cell_type": "code",
   "execution_count": 10,
   "metadata": {},
   "outputs": [],
   "source": [
    "df['text'] = df['title'] + df['description']"
   ]
  },
  {
   "cell_type": "code",
   "execution_count": 4,
   "metadata": {},
   "outputs": [],
   "source": [
    "import json\n",
    "import nltk\n",
    "from nltk.corpus import stopwords\n",
    "from nltk.stem import PorterStemmer\n",
    "import re"
   ]
  },
  {
   "cell_type": "code",
   "execution_count": 11,
   "metadata": {},
   "outputs": [
    {
     "name": "stderr",
     "output_type": "stream",
     "text": [
      "[nltk_data] Downloading package stopwords to\n",
      "[nltk_data]     /Users/mukammedalimbet/nltk_data...\n",
      "[nltk_data]   Package stopwords is already up-to-date!\n"
     ]
    }
   ],
   "source": [
    "nltk.download(\"stopwords\")\n",
    "STOPWORDS = stopwords.words(\"english\")"
   ]
  },
  {
   "cell_type": "code",
   "execution_count": 12,
   "metadata": {},
   "outputs": [],
   "source": [
    "def clean_text(text, stopwords=STOPWORDS):\n",
    "    text = text.lower()\n",
    "    \n",
    "    pattern = re.compile(r'\\b(' + r\"|\".join(stopwords) + r\")\\b\\s*\")\n",
    "    text = pattern.sub('', text)\n",
    "\n",
    "    text = re.sub(r\"([!\\\"'#$%&()*\\+,-./:;<=>?@\\\\\\[\\]^_`{|}~])\", r\" \\1 \", text)\n",
    "    text = re.sub(\"[^A-Za-z0-9]+\", \" \", text) \n",
    "    text = re.sub(\" +\", \" \", text) \n",
    "    text = text.strip()  \n",
    "    text = re.sub(r\"http\\S+\", \"\", text)  \n",
    "    \n",
    "    return text"
   ]
  },
  {
   "cell_type": "code",
   "execution_count": 13,
   "metadata": {},
   "outputs": [
    {
     "name": "stdout",
     "output_type": "stream",
     "text": [
      "Comparison between YOLO and RCNN on real world videosBringing theory to experiment is cool. We can easily train models in colab and find the results in minutes.\n",
      "comparison yolo rcnn real world videosbringing theory experiment cool easily train models colab find results minutes\n"
     ]
    }
   ],
   "source": [
    "original_df = df.copy()\n",
    "df.text = df.text.apply(clean_text)\n",
    "print (f\"{original_df.text.values[0]}\\n{df.text.values[0]}\")"
   ]
  },
  {
   "cell_type": "code",
   "execution_count": 14,
   "metadata": {},
   "outputs": [
    {
     "data": {
      "text/html": [
       "<div>\n",
       "<style scoped>\n",
       "    .dataframe tbody tr th:only-of-type {\n",
       "        vertical-align: middle;\n",
       "    }\n",
       "\n",
       "    .dataframe tbody tr th {\n",
       "        vertical-align: top;\n",
       "    }\n",
       "\n",
       "    .dataframe thead th {\n",
       "        text-align: right;\n",
       "    }\n",
       "</style>\n",
       "<table border=\"1\" class=\"dataframe\">\n",
       "  <thead>\n",
       "    <tr style=\"text-align: right;\">\n",
       "      <th></th>\n",
       "      <th>text</th>\n",
       "      <th>tag</th>\n",
       "    </tr>\n",
       "  </thead>\n",
       "  <tbody>\n",
       "    <tr>\n",
       "      <th>0</th>\n",
       "      <td>comparison yolo rcnn real world videosbringing...</td>\n",
       "      <td>computer-vision</td>\n",
       "    </tr>\n",
       "    <tr>\n",
       "      <th>1</th>\n",
       "      <td>show infer tell contextual inference creative ...</td>\n",
       "      <td>computer-vision</td>\n",
       "    </tr>\n",
       "    <tr>\n",
       "      <th>2</th>\n",
       "      <td>awesome graph classificationa collection impor...</td>\n",
       "      <td>other</td>\n",
       "    </tr>\n",
       "    <tr>\n",
       "      <th>3</th>\n",
       "      <td>awesome monte carlo tree searcha curated list ...</td>\n",
       "      <td>other</td>\n",
       "    </tr>\n",
       "    <tr>\n",
       "      <th>4</th>\n",
       "      <td>attentionwalka pytorch implementation watch st...</td>\n",
       "      <td>other</td>\n",
       "    </tr>\n",
       "  </tbody>\n",
       "</table>\n",
       "</div>"
      ],
      "text/plain": [
       "                                                text              tag\n",
       "0  comparison yolo rcnn real world videosbringing...  computer-vision\n",
       "1  show infer tell contextual inference creative ...  computer-vision\n",
       "2  awesome graph classificationa collection impor...            other\n",
       "3  awesome monte carlo tree searcha curated list ...            other\n",
       "4  attentionwalka pytorch implementation watch st...            other"
      ]
     },
     "execution_count": 14,
     "metadata": {},
     "output_type": "execute_result"
    }
   ],
   "source": [
    "df = df.drop(columns=[\"id\", \"created_on\", \"title\", \"description\"], errors = \"ignore\")\n",
    "df = df.dropna(subset=[\"tag\"])\n",
    "df = df[[\"text\", \"tag\"]]\n",
    "df.head()"
   ]
  },
  {
   "cell_type": "code",
   "execution_count": 15,
   "metadata": {},
   "outputs": [
    {
     "name": "stdout",
     "output_type": "stream",
     "text": [
      "{'computer-vision': 0, 'other': 1, 'natural-language-processing': 2, 'mlops': 3}\n"
     ]
    }
   ],
   "source": [
    "tags = df['tag'].unique().tolist()\n",
    "tags_dictionary = {}\n",
    "n = 0\n",
    "for i in tags:\n",
    "    tags_dictionary[i] = n\n",
    "    n += 1\n",
    "print(tags_dictionary)"
   ]
  },
  {
   "cell_type": "code",
   "execution_count": 16,
   "metadata": {},
   "outputs": [
    {
     "data": {
      "text/html": [
       "<div>\n",
       "<style scoped>\n",
       "    .dataframe tbody tr th:only-of-type {\n",
       "        vertical-align: middle;\n",
       "    }\n",
       "\n",
       "    .dataframe tbody tr th {\n",
       "        vertical-align: top;\n",
       "    }\n",
       "\n",
       "    .dataframe thead th {\n",
       "        text-align: right;\n",
       "    }\n",
       "</style>\n",
       "<table border=\"1\" class=\"dataframe\">\n",
       "  <thead>\n",
       "    <tr style=\"text-align: right;\">\n",
       "      <th></th>\n",
       "      <th>text</th>\n",
       "      <th>tag</th>\n",
       "    </tr>\n",
       "  </thead>\n",
       "  <tbody>\n",
       "    <tr>\n",
       "      <th>0</th>\n",
       "      <td>comparison yolo rcnn real world videosbringing...</td>\n",
       "      <td>0</td>\n",
       "    </tr>\n",
       "    <tr>\n",
       "      <th>1</th>\n",
       "      <td>show infer tell contextual inference creative ...</td>\n",
       "      <td>0</td>\n",
       "    </tr>\n",
       "    <tr>\n",
       "      <th>2</th>\n",
       "      <td>awesome graph classificationa collection impor...</td>\n",
       "      <td>1</td>\n",
       "    </tr>\n",
       "    <tr>\n",
       "      <th>3</th>\n",
       "      <td>awesome monte carlo tree searcha curated list ...</td>\n",
       "      <td>1</td>\n",
       "    </tr>\n",
       "    <tr>\n",
       "      <th>4</th>\n",
       "      <td>attentionwalka pytorch implementation watch st...</td>\n",
       "      <td>1</td>\n",
       "    </tr>\n",
       "  </tbody>\n",
       "</table>\n",
       "</div>"
      ],
      "text/plain": [
       "                                                text  tag\n",
       "0  comparison yolo rcnn real world videosbringing...    0\n",
       "1  show infer tell contextual inference creative ...    0\n",
       "2  awesome graph classificationa collection impor...    1\n",
       "3  awesome monte carlo tree searcha curated list ...    1\n",
       "4  attentionwalka pytorch implementation watch st...    1"
      ]
     },
     "execution_count": 16,
     "metadata": {},
     "output_type": "execute_result"
    }
   ],
   "source": [
    "df[\"tag\"] = df[\"tag\"].map(tags_dictionary)\n",
    "df.head()"
   ]
  },
  {
   "cell_type": "code",
   "execution_count": 3,
   "metadata": {},
   "outputs": [
    {
     "name": "stderr",
     "output_type": "stream",
     "text": [
      "2025/02/22 11:44:43 WARNING mlflow.utils.autologging_utils: You are using an unsupported version of sklearn. If you encounter errors during autologging, try upgrading / downgrading sklearn to a supported version, or try upgrading MLflow.\n",
      "2025/02/22 11:45:09 INFO mlflow.tracking.fluent: Autologging successfully enabled for sklearn.\n"
     ]
    }
   ],
   "source": [
    "from sklearn.model_selection import train_test_split\n",
    "from sklearn.feature_extraction.text import TfidfVectorizer\n",
    "from sklearn.naive_bayes import MultinomialNB\n",
    "from sklearn.pipeline import Pipeline\n",
    "from sklearn.metrics import classification_report\n",
    "from sklearn.linear_model import LogisticRegression\n"
   ]
  },
  {
   "cell_type": "code",
   "execution_count": 17,
   "metadata": {},
   "outputs": [],
   "source": [
    "X_train, X_test, y_train, y_test = train_test_split(df['text'], df['tag'], stratify=df['tag'], test_size=0.2, random_state=42)\n"
   ]
  },
  {
   "cell_type": "code",
   "execution_count": 18,
   "metadata": {},
   "outputs": [
    {
     "name": "stdout",
     "output_type": "stream",
     "text": [
      "tag\n",
      "2    248\n",
      "0    228\n",
      "1     85\n",
      "3     50\n",
      "Name: count, dtype: int64\n",
      "tag\n",
      "2    62\n",
      "0    57\n",
      "1    21\n",
      "3    13\n",
      "Name: count, dtype: int64\n"
     ]
    }
   ],
   "source": [
    "#distribution of classes in train and test sets\n",
    "print(y_train.value_counts())\n",
    "print(y_test.value_counts())"
   ]
  },
  {
   "cell_type": "code",
   "execution_count": 19,
   "metadata": {},
   "outputs": [
    {
     "data": {
      "text/plain": [
       "165    stefann scene text editor using font adaptive ...\n",
       "267    deep love transfer learning nlp review nlp res...\n",
       "108    graph netspytorch implementation explanation g...\n",
       "628    neuralqa api visual interface extractive qaa u...\n",
       "382    leafy plant leaf classifierthe sequential mode...\n",
       "                             ...                        \n",
       "297    plant disease detectionthis website help detec...\n",
       "292    content style disentanglement artistic style t...\n",
       "232    injecting inductive bias graph neural networks...\n",
       "239    danet pytorcha pytorch implementation dual att...\n",
       "580    tensorflow js object detection browsera real t...\n",
       "Name: text, Length: 153, dtype: object"
      ]
     },
     "execution_count": 19,
     "metadata": {},
     "output_type": "execute_result"
    }
   ],
   "source": [
    "X_test"
   ]
  },
  {
   "cell_type": "code",
   "execution_count": 20,
   "metadata": {},
   "outputs": [
    {
     "name": "stderr",
     "output_type": "stream",
     "text": [
      "2025/02/22 11:45:20 INFO mlflow.utils.autologging_utils: Created MLflow autologging run with ID 'd0570fb6ca8348e9833bbead09514ec1', which will track hyperparameters, performance metrics, model artifacts, and lineage information for the current sklearn workflow\n",
      "2025/02/22 11:45:20 WARNING mlflow.sklearn: Unrecognized dataset type <class 'pandas.core.series.Series'>. Dataset logging skipped.\n",
      "2025/02/22 11:45:23 WARNING mlflow.sklearn: Unrecognized dataset type <class 'pandas.core.series.Series'>. Dataset logging skipped.\n"
     ]
    },
    {
     "name": "stdout",
     "output_type": "stream",
     "text": [
      "              precision    recall  f1-score   support\n",
      "\n",
      "           0       0.87      0.91      0.89        57\n",
      "           1       0.92      0.57      0.71        21\n",
      "           2       0.85      0.92      0.88        62\n",
      "           3       0.85      0.85      0.85        13\n",
      "\n",
      "    accuracy                           0.86       153\n",
      "   macro avg       0.87      0.81      0.83       153\n",
      "weighted avg       0.87      0.86      0.86       153\n",
      "\n"
     ]
    }
   ],
   "source": [
    "from sklearn.preprocessing import FunctionTransformer\n",
    "\n",
    "# Create a pipeline with a conversion step\n",
    "pipeline = Pipeline([\n",
    "    (\"tfidf\", TfidfVectorizer()),\n",
    "    (\"to_dense\", FunctionTransformer(lambda x: x.toarray(), accept_sparse=True)),\n",
    "    (\"lr\", LogisticRegression(class_weight='balanced'))\n",
    "])\n",
    "\n",
    "# Fit and predict\n",
    "pipeline.fit(X_train, y_train)\n",
    "y_pred = pipeline.predict(X_test)\n",
    "\n",
    "print(classification_report(y_test, y_pred))"
   ]
  },
  {
   "cell_type": "code",
   "execution_count": 21,
   "metadata": {},
   "outputs": [],
   "source": [
    "report = classification_report(y_test, y_pred,  output_dict=True)"
   ]
  },
  {
   "cell_type": "code",
   "execution_count": 113,
   "metadata": {},
   "outputs": [
    {
     "data": {
      "text/plain": [
       "{'0': {'precision': 0.8666666666666667,\n",
       "  'recall': 0.9122807017543859,\n",
       "  'f1-score': 0.8888888888888888,\n",
       "  'support': 57.0},\n",
       " '1': {'precision': 0.9230769230769231,\n",
       "  'recall': 0.5714285714285714,\n",
       "  'f1-score': 0.7058823529411765,\n",
       "  'support': 21.0},\n",
       " '2': {'precision': 0.8507462686567164,\n",
       "  'recall': 0.9193548387096774,\n",
       "  'f1-score': 0.8837209302325582,\n",
       "  'support': 62.0},\n",
       " '3': {'precision': 0.8461538461538461,\n",
       "  'recall': 0.8461538461538461,\n",
       "  'f1-score': 0.8461538461538461,\n",
       "  'support': 13.0},\n",
       " 'accuracy': 0.8627450980392157,\n",
       " 'macro avg': {'precision': 0.8716609261385381,\n",
       "  'recall': 0.8123044895116203,\n",
       "  'f1-score': 0.8311615045541175,\n",
       "  'support': 153.0},\n",
       " 'weighted avg': {'precision': 0.8662149283747177,\n",
       "  'recall': 0.8627450980392157,\n",
       "  'f1-score': 0.8580450572081698,\n",
       "  'support': 153.0}}"
      ]
     },
     "execution_count": 113,
     "metadata": {},
     "output_type": "execute_result"
    }
   ],
   "source": [
    "report"
   ]
  },
  {
   "cell_type": "code",
   "execution_count": 73,
   "metadata": {},
   "outputs": [
    {
     "name": "stdout",
     "output_type": "stream",
     "text": [
      "\n",
      "Invariance Test Results:\n",
      "------------------------\n",
      "Original variations:\n",
      "Text: Transformers applied to NLP have changed the ML field.\n",
      "Prediction: 2\n",
      "\n",
      "Text: Transformers applied to NLP have revolutionized the ML field.\n",
      "Prediction: 2\n",
      "\n",
      "All predictions same? True\n"
     ]
    }
   ],
   "source": [
    "from typing import List\n",
    "import numpy as np\n",
    "\n",
    "def test_model_behaviour(pipeline, text_template: str, variations: List[str]) -> None:\n",
    "    \"\"\"\n",
    "    Test if model predictions stay same when words are substituted.\n",
    "    \n",
    "    Args:\n",
    "        pipeline: Your trained sklearn pipeline\n",
    "        text_template: Text with {} where word will be replaced\n",
    "        variations: List of words to try\n",
    "    \"\"\"\n",
    "    # Generate different versions of the text\n",
    "    texts = [text_template.format(word) for word in variations]\n",
    "    \n",
    "    # Get predictions for all variations\n",
    "    predictions = [pipeline.predict([text])[0] for text in texts]\n",
    "    \n",
    "    # Check if all predictions are the same\n",
    "    is_consistent = len(set(predictions)) == 1\n",
    "    \n",
    "    # Print results\n",
    "    print(\"\\nInvariance Test Results:\")\n",
    "    print(\"------------------------\")\n",
    "    print(\"Original variations:\")\n",
    "    for text, pred in zip(texts, predictions):\n",
    "        print(f\"Text: {text}\")\n",
    "        print(f\"Prediction: {pred}\")\n",
    "        print()\n",
    "    print(f\"All predictions same? {is_consistent}\")\n",
    "    \n",
    "# Example usage\n",
    "variations = [\n",
    "    \"changed\",\n",
    "    \"revolutionized\"\n",
    "]\n",
    "\n",
    "template = \"Transformers applied to NLP have {} the ML field.\"\n",
    "\n",
    "# Run the test\n",
    "test_model_behaviour(pipeline, template, variations)\n",
    "\n"
   ]
  },
  {
   "cell_type": "code",
   "execution_count": 74,
   "metadata": {},
   "outputs": [
    {
     "name": "stdout",
     "output_type": "stream",
     "text": [
      "\n",
      "Invariance Test Results:\n",
      "------------------------\n",
      "Original variations:\n",
      "Text: ML applied to text classification\n",
      "Prediction: 2\n",
      "\n",
      "Text: ML applied to image classification\n",
      "Prediction: 0\n",
      "\n",
      "All predictions same? False\n"
     ]
    }
   ],
   "source": [
    "# N2 DIRectional expectations (changes with known outputs)\n",
    "variations2 = [\n",
    "    \"text classification\",\n",
    "    \"image classification\"\n",
    "]\n",
    "\n",
    "template2 = \"ML applied to {}\"\n",
    "\n",
    "# Run the test\n",
    "test_model_behaviour(pipeline, template2, variations2)"
   ]
  },
  {
   "cell_type": "code",
   "execution_count": 75,
   "metadata": {},
   "outputs": [
    {
     "name": "stdout",
     "output_type": "stream",
     "text": [
      "\n",
      "Invariance Test Results:\n",
      "------------------------\n",
      "Original variations:\n",
      "Text: natural language processing is the next big wave in machine learning.\n",
      "Prediction: 2\n",
      "\n",
      "Text: mlops is the next big wave in machine learning.\n",
      "Prediction: 3\n",
      "\n",
      "All predictions same? False\n"
     ]
    }
   ],
   "source": [
    "\n",
    "# N3 minimum functionality (Simple combination of inputs and expected outputs)\n",
    "variations3 = [\n",
    "    \"natural language processing\", \n",
    "    \"mlops\"\n",
    "]\n",
    "\n",
    "template3 = \"{} is the next big wave in machine learning.\"\n",
    "\n",
    "# Run the test\n",
    "test_model_behaviour(pipeline, template3, variations3)"
   ]
  },
  {
   "cell_type": "markdown",
   "metadata": {},
   "source": [
    "#### Experiment Tracking"
   ]
  },
  {
   "cell_type": "code",
   "execution_count": 27,
   "metadata": {},
   "outputs": [],
   "source": [
    "import mlflow\n",
    "from mlflow import MlflowClient\n",
    "from sklearn.model_selection import RandomizedSearchCV\n",
    "from scipy.stats import uniform"
   ]
  },
  {
   "cell_type": "code",
   "execution_count": null,
   "metadata": {},
   "outputs": [
    {
     "name": "stderr",
     "output_type": "stream",
     "text": [
      "2025/02/22 12:02:14 INFO mlflow.tracking.fluent: Experiment with name 'Log_Reg_Text_Classification' does not exist. Creating a new experiment.\n",
      "2025/02/22 12:02:14 WARNING mlflow.utils.autologging_utils: You are using an unsupported version of sklearn. If you encounter errors during autologging, try upgrading / downgrading sklearn to a supported version, or try upgrading MLflow.\n",
      "2025/02/22 12:02:14 WARNING mlflow.sklearn: Unrecognized dataset type <class 'pandas.core.series.Series'>. Dataset logging skipped.\n",
      "/Users/mukammedalimbet/personal_coding/madewithml/venv/lib/python3.10/site-packages/sklearn/linear_model/_sag.py:348: ConvergenceWarning: The max_iter was reached which means the coef_ did not converge\n",
      "  warnings.warn(\n",
      "/Users/mukammedalimbet/personal_coding/madewithml/venv/lib/python3.10/site-packages/sklearn/linear_model/_sag.py:348: ConvergenceWarning: The max_iter was reached which means the coef_ did not converge\n",
      "  warnings.warn(\n",
      "/Users/mukammedalimbet/personal_coding/madewithml/venv/lib/python3.10/site-packages/sklearn/linear_model/_sag.py:348: ConvergenceWarning: The max_iter was reached which means the coef_ did not converge\n",
      "  warnings.warn(\n",
      "/Users/mukammedalimbet/personal_coding/madewithml/venv/lib/python3.10/site-packages/sklearn/linear_model/_sag.py:348: ConvergenceWarning: The max_iter was reached which means the coef_ did not converge\n",
      "  warnings.warn(\n",
      "/Users/mukammedalimbet/personal_coding/madewithml/venv/lib/python3.10/site-packages/sklearn/linear_model/_sag.py:348: ConvergenceWarning: The max_iter was reached which means the coef_ did not converge\n",
      "  warnings.warn(\n",
      "/Users/mukammedalimbet/personal_coding/madewithml/venv/lib/python3.10/site-packages/sklearn/linear_model/_sag.py:348: ConvergenceWarning: The max_iter was reached which means the coef_ did not converge\n",
      "  warnings.warn(\n",
      "/Users/mukammedalimbet/personal_coding/madewithml/venv/lib/python3.10/site-packages/sklearn/linear_model/_sag.py:348: ConvergenceWarning: The max_iter was reached which means the coef_ did not converge\n",
      "  warnings.warn(\n",
      "/Users/mukammedalimbet/personal_coding/madewithml/venv/lib/python3.10/site-packages/sklearn/linear_model/_sag.py:348: ConvergenceWarning: The max_iter was reached which means the coef_ did not converge\n",
      "  warnings.warn(\n",
      "/Users/mukammedalimbet/personal_coding/madewithml/venv/lib/python3.10/site-packages/sklearn/linear_model/_sag.py:348: ConvergenceWarning: The max_iter was reached which means the coef_ did not converge\n",
      "  warnings.warn(\n",
      "/Users/mukammedalimbet/personal_coding/madewithml/venv/lib/python3.10/site-packages/sklearn/linear_model/_sag.py:348: ConvergenceWarning: The max_iter was reached which means the coef_ did not converge\n",
      "  warnings.warn(\n",
      "/Users/mukammedalimbet/personal_coding/madewithml/venv/lib/python3.10/site-packages/sklearn/linear_model/_sag.py:348: ConvergenceWarning: The max_iter was reached which means the coef_ did not converge\n",
      "  warnings.warn(\n",
      "/Users/mukammedalimbet/personal_coding/madewithml/venv/lib/python3.10/site-packages/sklearn/linear_model/_sag.py:348: ConvergenceWarning: The max_iter was reached which means the coef_ did not converge\n",
      "  warnings.warn(\n",
      "2025/02/22 12:03:45 WARNING mlflow.utils.autologging_utils: MLflow autologging encountered a warning: \"/Users/mukammedalimbet/personal_coding/madewithml/venv/lib/python3.10/site-packages/_distutils_hack/__init__.py:15: UserWarning: Distutils was imported before Setuptools, but importing Setuptools also replaces the `distutils` module in `sys.modules`. This may lead to undesirable behaviors or errors. To avoid these issues, avoid using distutils directly, ensure that setuptools is installed in the traditional way (e.g. not an editable install), and/or make sure that setuptools is always imported before distutils.\"\n",
      "2025/02/22 12:03:45 WARNING mlflow.utils.autologging_utils: MLflow autologging encountered a warning: \"/Users/mukammedalimbet/personal_coding/madewithml/venv/lib/python3.10/site-packages/_distutils_hack/__init__.py:30: UserWarning: Setuptools is replacing distutils. Support for replacing an already imported distutils is deprecated. In the future, this condition will fail. Register concerns at https://github.com/pypa/setuptools/issues/new?template=distutils-deprecation.yml\"\n",
      "2025/02/22 12:03:46 INFO mlflow.sklearn.utils: Logging the 5 best runs, 5 runs will be omitted.\n"
     ]
    },
    {
     "name": "stdout",
     "output_type": "stream",
     "text": [
      "              precision    recall  f1-score   support\n",
      "\n",
      "           0       0.88      0.89      0.89        57\n",
      "           1       0.93      0.62      0.74        21\n",
      "           2       0.84      0.92      0.88        62\n",
      "           3       0.85      0.85      0.85        13\n",
      "\n",
      "    accuracy                           0.86       153\n",
      "   macro avg       0.87      0.82      0.84       153\n",
      "weighted avg       0.87      0.86      0.86       153\n",
      "\n"
     ]
    }
   ],
   "source": [
    "mlflow.set_tracking_uri(uri=\"http://127.0.0.1:8080\")\n",
    "mlflow.set_experiment(\"Log_Reg_Text_Classification\")\n",
    "\n",
    "def fetch_logged_data(run_id):\n",
    "    client = MlflowClient()\n",
    "    data = client.get_run(run_id).data\n",
    "    tags = {k: v for k, v in data.tags.items() if not k.startswith(\"mlflow.\")}\n",
    "    artifacts = [f.path for f in client.list_artifacts(run_id, \"model\")]\n",
    "    return data.params, data.metrics, tags, artifacts\n",
    "\n",
    "\n",
    "mlflow.sklearn.autolog()\n",
    "with mlflow.start_run(run_name=\"logging_models\") as run:\n",
    "\n",
    "    pipeline = Pipeline([\n",
    "        (\"tfidf\", TfidfVectorizer()),\n",
    "        (\"to_dense\", FunctionTransformer(lambda x: x.toarray(), accept_sparse=True)),\n",
    "        (\"lr\", LogisticRegression(class_weight='balanced', solver='saga', tol=1e-2, max_iter=200,\n",
    "                              random_state=0))\n",
    "    ])\n",
    "\n",
    "    distributions = dict(lr__C=uniform(loc=0, scale=4), \n",
    "                         lr__penalty=['l2', 'l1'])    \n",
    "    clf = RandomizedSearchCV(pipeline, distributions, random_state=0)\n",
    "\n",
    "\n",
    "    search = clf.fit(X_train, y_train)\n",
    "    y_pred = search.best_estimator_.predict(X_test)\n",
    "    print(classification_report(y_test, y_pred))\n"
   ]
  },
  {
   "cell_type": "code",
   "execution_count": 35,
   "metadata": {},
   "outputs": [],
   "source": [
    "params, metrics, tags, artifacts = fetch_logged_data(run.info.run_id)"
   ]
  },
  {
   "cell_type": "code",
   "execution_count": 36,
   "metadata": {},
   "outputs": [
    {
     "data": {
      "text/plain": [
       "{'best_lr__penalty': 'l2',\n",
       " 'n_iter': '10',\n",
       " 'estimator': \"Pipeline(steps=[('tfidf', TfidfVectorizer()),\\n                ('to_dense',\\n                 FunctionTransformer(accept_sparse=True,\\n                                     func=<function <lambda> at 0x140a24dc0>)),\\n                ('lr',\\n                 LogisticRegression(class_weight='balanced', max_iter=200,\\n                                    random_state=0, solver='saga', tol=0.01))])\",\n",
       " 'random_state': '0',\n",
       " 'verbose': '0',\n",
       " 'pre_dispatch': '2*n_jobs',\n",
       " 'error_score': 'nan',\n",
       " 'refit': 'True',\n",
       " 'param_distributions': \"{'lr__C': <scipy.stats._distn_infrastructure.rv_continuous_frozen object at 0x140a0efb0>, 'lr__penalty': ['l2', 'l1']}\",\n",
       " 'scoring': 'None',\n",
       " 'cv': 'None',\n",
       " 'best_lr__C': '3.2486749151019727',\n",
       " 'n_jobs': 'None',\n",
       " 'return_train_score': 'False'}"
      ]
     },
     "execution_count": 36,
     "metadata": {},
     "output_type": "execute_result"
    }
   ],
   "source": [
    "params"
   ]
  },
  {
   "cell_type": "code",
   "execution_count": 37,
   "metadata": {},
   "outputs": [
    {
     "data": {
      "text/plain": [
       "{'training_score': 0.9950900163666121,\n",
       " 'training_roc_auc': 0.999981629627983,\n",
       " 'training_accuracy_score': 0.9950900163666121,\n",
       " 'training_precision_score': 0.9952224863194438,\n",
       " 'training_log_loss': 0.2772949325999546,\n",
       " 'training_f1_score': 0.9951074960794111,\n",
       " 'training_recall_score': 0.9950900163666121,\n",
       " 'best_cv_score': 0.8574703451952553}"
      ]
     },
     "execution_count": 37,
     "metadata": {},
     "output_type": "execute_result"
    }
   ],
   "source": [
    "metrics"
   ]
  },
  {
   "cell_type": "code",
   "execution_count": 38,
   "metadata": {},
   "outputs": [
    {
     "data": {
      "text/plain": [
       "{'estimator_class': 'sklearn.model_selection._search.RandomizedSearchCV',\n",
       " 'estimator_name': 'RandomizedSearchCV'}"
      ]
     },
     "execution_count": 38,
     "metadata": {},
     "output_type": "execute_result"
    }
   ],
   "source": [
    "tags"
   ]
  },
  {
   "cell_type": "code",
   "execution_count": 39,
   "metadata": {},
   "outputs": [
    {
     "data": {
      "text/plain": [
       "['model/MLmodel',\n",
       " 'model/conda.yaml',\n",
       " 'model/model.pkl',\n",
       " 'model/python_env.yaml',\n",
       " 'model/requirements.txt']"
      ]
     },
     "execution_count": 39,
     "metadata": {},
     "output_type": "execute_result"
    }
   ],
   "source": [
    "artifacts"
   ]
  }
 ],
 "metadata": {
  "kernelspec": {
   "display_name": "venv",
   "language": "python",
   "name": "python3"
  },
  "language_info": {
   "codemirror_mode": {
    "name": "ipython",
    "version": 3
   },
   "file_extension": ".py",
   "mimetype": "text/x-python",
   "name": "python",
   "nbconvert_exporter": "python",
   "pygments_lexer": "ipython3",
   "version": "3.10.11"
  }
 },
 "nbformat": 4,
 "nbformat_minor": 2
}
